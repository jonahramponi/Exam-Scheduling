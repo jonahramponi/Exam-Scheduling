{
 "cells": [
  {
   "cell_type": "code",
   "execution_count": 3,
   "metadata": {},
   "outputs": [],
   "source": [
    "import pandas as pd\n",
    "import numpy as np\n",
    "\n",
    "import os\n",
    "\n",
    "from bs4 import BeautifulSoup"
   ]
  },
  {
   "cell_type": "code",
   "execution_count": 5,
   "metadata": {},
   "outputs": [],
   "source": [
    "###################### Process Toronto Data ############################\n",
    "\n",
    "path = \"Data/Toronto\"\n",
    "raw = os.path.join(path,\"raw\")\n",
    "files = os.listdir(raw)\n",
    "\n",
    "for file in files:\n",
    "    with open (os.path.join(raw,file), \"r\") as f:\n",
    "        if file[-3:] == \"crs\":\n",
    "            ## Load Course Data\n",
    "            data = f.read()\n",
    "            course = pd.DataFrame([x.split(\" \") for x in data.split(\"\\n\")])\n",
    "            course.columns = ['exam_id','num_students']\n",
    "\n",
    "            course.dropna(inplace = True)\n",
    "\n",
    "            course.to_csv(os.path.join(path,\"Processed/course_\" + file[:-3] + \".csv\"), index = False)\n",
    "\n",
    "        else:\n",
    "            ## Load Student Data\n",
    "            data = f.read()\n",
    "            student = pd.DataFrame([x.split(\" \") for x in data.split(\"\\n\")])\n",
    "            student.columns = [\"exam\" + str(x + 1) for x in student.columns]\n",
    "            student.fillna(\"no_exam\", inplace = True)\n",
    "            student.replace(\"\",\"no_exam\", inplace = True)\n",
    "\n",
    "            student.to_csv(os.path.join(path,\"Processed/student_\" + file[:-3] + \".csv\"), index = False)"
   ]
  },
  {
   "cell_type": "code",
   "execution_count": 87,
   "metadata": {},
   "outputs": [],
   "source": [
    "###################### Process Purdue Data ############################\n",
    "#https://www.unitime.org/exam_datasets.php\n",
    "\n",
    "path = \"Data/Purdue\"\n",
    "raw = os.path.join(path,\"raw\")\n",
    "files = os.listdir(raw)"
   ]
  },
  {
   "cell_type": "code",
   "execution_count": 98,
   "metadata": {},
   "outputs": [],
   "source": [
    "###################### Process Nottingham Data ############################\n",
    "path = \"Data/Nottingham/\"\n",
    "\n",
    "with open(os.path.join(path,\"data\"),\"r\") as f:\n",
    "    data = f.read()"
   ]
  }
 ],
 "metadata": {
  "kernelspec": {
   "display_name": "Python 3.9.7 64-bit ('anaconda3')",
   "language": "python",
   "name": "python3"
  },
  "language_info": {
   "codemirror_mode": {
    "name": "ipython",
    "version": 3
   },
   "file_extension": ".py",
   "mimetype": "text/x-python",
   "name": "python",
   "nbconvert_exporter": "python",
   "pygments_lexer": "ipython3",
   "version": "3.9.7"
  },
  "orig_nbformat": 4,
  "vscode": {
   "interpreter": {
    "hash": "4c1b322633f2dd839790658b796d07cb80abeebac18445d6b91f7ab3fc6174a9"
   }
  }
 },
 "nbformat": 4,
 "nbformat_minor": 2
}
