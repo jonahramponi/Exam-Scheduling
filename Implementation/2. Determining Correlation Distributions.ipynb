{
 "cells": [
  {
   "cell_type": "code",
   "execution_count": 7,
   "metadata": {},
   "outputs": [],
   "source": [
    "import pandas as pd\n",
    "import numpy as np\n",
    "\n",
    "import os "
   ]
  },
  {
   "cell_type": "code",
   "execution_count": 59,
   "metadata": {},
   "outputs": [],
   "source": [
    "universities = ['Toronto']\n",
    "path = \"Data/\"\n",
    "data = []\n",
    "data_exams = [] \n",
    "filenames = []\n",
    "\n",
    "for university in universities:\n",
    "    path_uni = os.path.join(path,university)\n",
    "    for file in os.listdir(os.path.join(path_uni,\"Processed\")):\n",
    "        if file[0] == \"s\":\n",
    "            data.append(pd.read_csv(path_uni + \"/\" + \"Processed\" + \"/\" + file))\n",
    "            filenames.append(file.split(\".\")[0].split(\"_\")[1])\n",
    "        else:\n",
    "            data_exams.append(pd.read_csv(path_uni + \"/\" + \"Processed\" + \"/\" + file))\n",
    "\n",
    "    for dataset in range(len(data)):\n",
    "    d = data[dataset]\n",
    "    d2 = data_exams[dataset]\n",
    "\n",
    "    empty_df = pd.DataFrame(index =range(len(d2)), columns =range(len(d2))).replace(np.NaN,0)\n",
    "    for idx, row in d.iterrows():\n",
    "        exam_list = list(np.unique(list(row.values)))\n",
    "        exam_list.remove('no_exam')\n",
    "        if len(exam_list) > 1:\n",
    "            for j in range (len(exam_list)):\n",
    "                for i in range(len(exam_list)-1):\n",
    "                    empty_df.loc[int(exam_list[j]) - 1,int(exam_list[i]) - 1] +=1 \n",
    "\n",
    "    empty_df.to_csv(os.path.join(path_uni,\"Processed/conflicts_\" + filenames[dataset] + \".csv\"), index = False)"
   ]
  }
 ],
 "metadata": {
  "kernelspec": {
   "display_name": "Python 3.9.7 64-bit ('anaconda3')",
   "language": "python",
   "name": "python3"
  },
  "language_info": {
   "codemirror_mode": {
    "name": "ipython",
    "version": 3
   },
   "file_extension": ".py",
   "mimetype": "text/x-python",
   "name": "python",
   "nbconvert_exporter": "python",
   "pygments_lexer": "ipython3",
   "version": "3.9.7"
  },
  "orig_nbformat": 4,
  "vscode": {
   "interpreter": {
    "hash": "4c1b322633f2dd839790658b796d07cb80abeebac18445d6b91f7ab3fc6174a9"
   }
  }
 },
 "nbformat": 4,
 "nbformat_minor": 2
}
